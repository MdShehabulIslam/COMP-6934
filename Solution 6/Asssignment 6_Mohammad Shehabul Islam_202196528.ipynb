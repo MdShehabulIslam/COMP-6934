{
 "cells": [
  {
   "cell_type": "markdown",
   "id": "d7077c3f",
   "metadata": {},
   "source": [
    "# COMP 6934 - Assignment 6\n",
    "\n",
    "Name: Mohammad Shehabul Islam\n",
    "\n",
    "ID: 202196528"
   ]
  },
  {
   "cell_type": "markdown",
   "id": "1c0719c3",
   "metadata": {},
   "source": [
    "# Question 1"
   ]
  },
  {
   "cell_type": "code",
   "execution_count": 1,
   "id": "a2213803",
   "metadata": {},
   "outputs": [],
   "source": [
    "import numpy as np\n",
    "import pandas as pd\n",
    "import matplotlib.pyplot as plt\n",
    "import matplotlib.colors as mcolors\n",
    "import seaborn as sns\n",
    "import ipywidgets as widgets\n",
    "from ipywidgets import interact, interactive, fixed, interact_manual"
   ]
  },
  {
   "cell_type": "code",
   "execution_count": 2,
   "id": "380fc5f8",
   "metadata": {},
   "outputs": [
    {
     "data": {
      "text/html": [
       "<div>\n",
       "<style scoped>\n",
       "    .dataframe tbody tr th:only-of-type {\n",
       "        vertical-align: middle;\n",
       "    }\n",
       "\n",
       "    .dataframe tbody tr th {\n",
       "        vertical-align: top;\n",
       "    }\n",
       "\n",
       "    .dataframe thead th {\n",
       "        text-align: right;\n",
       "    }\n",
       "</style>\n",
       "<table border=\"1\" class=\"dataframe\">\n",
       "  <thead>\n",
       "    <tr style=\"text-align: right;\">\n",
       "      <th></th>\n",
       "      <th>id</th>\n",
       "      <th>url</th>\n",
       "      <th>shape</th>\n",
       "      <th>price</th>\n",
       "      <th>carat</th>\n",
       "      <th>cut</th>\n",
       "      <th>colour</th>\n",
       "      <th>clarity</th>\n",
       "      <th>report</th>\n",
       "      <th>type</th>\n",
       "      <th>date_fetched</th>\n",
       "    </tr>\n",
       "  </thead>\n",
       "  <tbody>\n",
       "    <tr>\n",
       "      <th>0</th>\n",
       "      <td>10086429</td>\n",
       "      <td>https://www.brilliantearth.com//loose-diamonds...</td>\n",
       "      <td>Round</td>\n",
       "      <td>400</td>\n",
       "      <td>0.30</td>\n",
       "      <td>Very Good</td>\n",
       "      <td>J</td>\n",
       "      <td>SI2</td>\n",
       "      <td>GIA</td>\n",
       "      <td>natural</td>\n",
       "      <td>2020-11-29 12-26 PM</td>\n",
       "    </tr>\n",
       "    <tr>\n",
       "      <th>1</th>\n",
       "      <td>10016334</td>\n",
       "      <td>https://www.brilliantearth.com//loose-diamonds...</td>\n",
       "      <td>Emerald</td>\n",
       "      <td>400</td>\n",
       "      <td>0.31</td>\n",
       "      <td>Ideal</td>\n",
       "      <td>I</td>\n",
       "      <td>SI1</td>\n",
       "      <td>GIA</td>\n",
       "      <td>natural</td>\n",
       "      <td>2020-11-29 12-26 PM</td>\n",
       "    </tr>\n",
       "    <tr>\n",
       "      <th>2</th>\n",
       "      <td>9947216</td>\n",
       "      <td>https://www.brilliantearth.com//loose-diamonds...</td>\n",
       "      <td>Emerald</td>\n",
       "      <td>400</td>\n",
       "      <td>0.30</td>\n",
       "      <td>Ideal</td>\n",
       "      <td>I</td>\n",
       "      <td>VS2</td>\n",
       "      <td>GIA</td>\n",
       "      <td>natural</td>\n",
       "      <td>2020-11-29 12-26 PM</td>\n",
       "    </tr>\n",
       "  </tbody>\n",
       "</table>\n",
       "</div>"
      ],
      "text/plain": [
       "         id                                                url    shape  \\\n",
       "0  10086429  https://www.brilliantearth.com//loose-diamonds...    Round   \n",
       "1  10016334  https://www.brilliantearth.com//loose-diamonds...  Emerald   \n",
       "2   9947216  https://www.brilliantearth.com//loose-diamonds...  Emerald   \n",
       "\n",
       "   price  carat        cut colour clarity report     type         date_fetched  \n",
       "0    400   0.30  Very Good      J     SI2    GIA  natural  2020-11-29 12-26 PM  \n",
       "1    400   0.31      Ideal      I     SI1    GIA  natural  2020-11-29 12-26 PM  \n",
       "2    400   0.30      Ideal      I     VS2    GIA  natural  2020-11-29 12-26 PM  "
      ]
     },
     "execution_count": 2,
     "metadata": {},
     "output_type": "execute_result"
    }
   ],
   "source": [
    "df_diamond = pd.read_csv('diamonds.csv')\n",
    "df_diamond.head(3)"
   ]
  },
  {
   "cell_type": "code",
   "execution_count": 3,
   "id": "7175afed",
   "metadata": {
    "scrolled": true
   },
   "outputs": [
    {
     "data": {
      "application/vnd.jupyter.widget-view+json": {
       "model_id": "b7fb0084f14b4bbfab2aeaafd277a8e9",
       "version_major": 2,
       "version_minor": 0
      },
      "text/plain": [
       "interactive(children=(Dropdown(description='Origin', options=('All', 'Natural', 'Lab'), value='All'), Output()…"
      ]
     },
     "metadata": {},
     "output_type": "display_data"
    },
    {
     "data": {
      "text/plain": [
       "<function __main__.plot_figure(Origin)>"
      ]
     },
     "execution_count": 3,
     "metadata": {},
     "output_type": "execute_result"
    }
   ],
   "source": [
    "df_diamond = pd.read_csv('diamonds.csv')\n",
    "\n",
    "def plot_figure(Origin):\n",
    "    if Origin == 'Natural':\n",
    "        df=df_diamond[(df_diamond.type == 'natural')]\n",
    "    elif Origin == 'Lab':\n",
    "        df=df_diamond[(df_diamond.type == 'lab')]\n",
    "    else:\n",
    "        df=df_diamond\n",
    "    df_hm = df[['colour', 'clarity', 'carat']].groupby(['clarity', 'colour']).mean().reset_index()\n",
    "    df_hm = df_hm.pivot(index='colour', columns='clarity', values='carat')\n",
    "    desired_order = ['SI2','SI1','VS2','VS1','VVS2','VVS1','IF']\n",
    "    df_pivot = df_hm.reindex(columns=desired_order)\n",
    "    sns.color_palette('mako')\n",
    "    sns.heatmap(data=df_pivot, cmap=\"mako\")\n",
    "interact(plot_figure, Origin=['All','Natural','Lab'])"
   ]
  },
  {
   "cell_type": "markdown",
   "id": "bb66c709",
   "metadata": {},
   "source": [
    "# Question 2"
   ]
  },
  {
   "cell_type": "code",
   "execution_count": 4,
   "id": "7ce8696b",
   "metadata": {},
   "outputs": [
    {
     "data": {
      "text/html": [
       "<div>\n",
       "<style scoped>\n",
       "    .dataframe tbody tr th:only-of-type {\n",
       "        vertical-align: middle;\n",
       "    }\n",
       "\n",
       "    .dataframe tbody tr th {\n",
       "        vertical-align: top;\n",
       "    }\n",
       "\n",
       "    .dataframe thead th {\n",
       "        text-align: right;\n",
       "    }\n",
       "</style>\n",
       "<table border=\"1\" class=\"dataframe\">\n",
       "  <thead>\n",
       "    <tr style=\"text-align: right;\">\n",
       "      <th></th>\n",
       "      <th>ID</th>\n",
       "      <th>Name</th>\n",
       "      <th>Sex</th>\n",
       "      <th>Age</th>\n",
       "      <th>Height</th>\n",
       "      <th>Weight</th>\n",
       "      <th>Team</th>\n",
       "      <th>NOC</th>\n",
       "      <th>Games</th>\n",
       "      <th>Year</th>\n",
       "      <th>Season</th>\n",
       "      <th>City</th>\n",
       "      <th>Sport</th>\n",
       "      <th>Event</th>\n",
       "      <th>Medal</th>\n",
       "    </tr>\n",
       "  </thead>\n",
       "  <tbody>\n",
       "    <tr>\n",
       "      <th>0</th>\n",
       "      <td>1</td>\n",
       "      <td>A Dijiang</td>\n",
       "      <td>M</td>\n",
       "      <td>24.0</td>\n",
       "      <td>180.0</td>\n",
       "      <td>80.0</td>\n",
       "      <td>China</td>\n",
       "      <td>CHN</td>\n",
       "      <td>1992 Summer</td>\n",
       "      <td>1992</td>\n",
       "      <td>Summer</td>\n",
       "      <td>Barcelona</td>\n",
       "      <td>Basketball</td>\n",
       "      <td>Basketball Men's Basketball</td>\n",
       "      <td>NaN</td>\n",
       "    </tr>\n",
       "    <tr>\n",
       "      <th>1</th>\n",
       "      <td>2</td>\n",
       "      <td>A Lamusi</td>\n",
       "      <td>M</td>\n",
       "      <td>23.0</td>\n",
       "      <td>170.0</td>\n",
       "      <td>60.0</td>\n",
       "      <td>China</td>\n",
       "      <td>CHN</td>\n",
       "      <td>2012 Summer</td>\n",
       "      <td>2012</td>\n",
       "      <td>Summer</td>\n",
       "      <td>London</td>\n",
       "      <td>Judo</td>\n",
       "      <td>Judo Men's Extra-Lightweight</td>\n",
       "      <td>NaN</td>\n",
       "    </tr>\n",
       "    <tr>\n",
       "      <th>2</th>\n",
       "      <td>3</td>\n",
       "      <td>Gunnar Nielsen Aaby</td>\n",
       "      <td>M</td>\n",
       "      <td>24.0</td>\n",
       "      <td>NaN</td>\n",
       "      <td>NaN</td>\n",
       "      <td>Denmark</td>\n",
       "      <td>DEN</td>\n",
       "      <td>1920 Summer</td>\n",
       "      <td>1920</td>\n",
       "      <td>Summer</td>\n",
       "      <td>Antwerpen</td>\n",
       "      <td>Football</td>\n",
       "      <td>Football Men's Football</td>\n",
       "      <td>NaN</td>\n",
       "    </tr>\n",
       "  </tbody>\n",
       "</table>\n",
       "</div>"
      ],
      "text/plain": [
       "   ID                 Name Sex   Age  Height  Weight     Team  NOC  \\\n",
       "0   1            A Dijiang   M  24.0   180.0    80.0    China  CHN   \n",
       "1   2             A Lamusi   M  23.0   170.0    60.0    China  CHN   \n",
       "2   3  Gunnar Nielsen Aaby   M  24.0     NaN     NaN  Denmark  DEN   \n",
       "\n",
       "         Games  Year  Season       City       Sport  \\\n",
       "0  1992 Summer  1992  Summer  Barcelona  Basketball   \n",
       "1  2012 Summer  2012  Summer     London        Judo   \n",
       "2  1920 Summer  1920  Summer  Antwerpen    Football   \n",
       "\n",
       "                          Event Medal  \n",
       "0   Basketball Men's Basketball   NaN  \n",
       "1  Judo Men's Extra-Lightweight   NaN  \n",
       "2       Football Men's Football   NaN  "
      ]
     },
     "execution_count": 4,
     "metadata": {},
     "output_type": "execute_result"
    }
   ],
   "source": [
    "data = pd.read_csv(\"olympic_athletes.csv\")\n",
    "data.head(3)"
   ]
  },
  {
   "cell_type": "code",
   "execution_count": 5,
   "id": "d576ca53",
   "metadata": {},
   "outputs": [
    {
     "data": {
      "application/vnd.jupyter.widget-view+json": {
       "model_id": "3cbe11ef1d704cfe8b51844e3e5961b4",
       "version_major": 2,
       "version_minor": 0
      },
      "text/plain": [
       "interactive(children=(Dropdown(description='Sport', index=8, options=('Swimming', 'Wrestling', 'Fencing', 'Ath…"
      ]
     },
     "metadata": {},
     "output_type": "display_data"
    }
   ],
   "source": [
    "data = pd.read_csv(\"olympic_athletes.csv\")\n",
    "\n",
    "gld_medalists = data[(data['Medal'] == 'Gold') & (data['Year'] >= 2000) & (data['Year'] <= 2016)]\n",
    "gld_medalists = gld_medalists.dropna(subset=['Height', 'Weight'])\n",
    "\n",
    "def plot_figure(sport, kde, display_data):\n",
    "    if sport != 'Combined':\n",
    "        filtered_data = gld_medalists[gld_medalists['Sport'] == sport]\n",
    "    else:\n",
    "        filtered_data = gld_medalists  \n",
    "    plt.clf()\n",
    "    \n",
    "    fig, ax = plt.subplots(figsize=(7, 5))\n",
    "    plt.xlim(20, 140)\n",
    "    plt.ylim(130, 220)\n",
    "    plt.xlabel('Weight')\n",
    "    plt.ylabel('Height')\n",
    "\n",
    "    if not kde:\n",
    "        weight_bins = np.linspace(30, 140, 30)  \n",
    "        height_bins = np.linspace(135, 220, 30)  \n",
    "        counts, _, _ = np.histogram2d(filtered_data['Weight'], filtered_data['Height'], bins=(weight_bins, height_bins))        \n",
    "        mesh = ax.pcolormesh(weight_bins, height_bins, counts.T, cmap=\"Blues\", norm=mcolors.LogNorm())\n",
    "        \n",
    "    else:\n",
    "        sns.kdeplot(data=filtered_data, x='Weight', y='Height', fill=True, ax=ax, alpha=0.5)\n",
    "    \n",
    "    if display_data:\n",
    "        male = filtered_data[filtered_data['Sex'] == 'M']\n",
    "        female = filtered_data[filtered_data['Sex'] == 'F']\n",
    "        plt.scatter(male['Weight'], male['Height'], color='#047CCB', linewidth=0.5, edgecolor='white', label='M', s=25)\n",
    "        plt.scatter(female['Weight'], female['Height'], color='#F68D25', linewidth=0.5, edgecolor='white', label='F', s=25)\n",
    "        plt.legend(title='Sex', loc='upper right')\n",
    "    \n",
    "\n",
    "sports = ['Swimming', 'Wrestling', 'Fencing', 'Athletics', 'Shooting', 'Cycling', 'Rowing', 'Gymnastics', 'Combined']\n",
    "sport_dropdown = widgets.Dropdown(options=sports, value='Combined', description='Sport')\n",
    "kde_chkbox = widgets.Checkbox(value=False, description='kde')\n",
    "display_data_chkbox = widgets.Checkbox(value=False, description='display_data')\n",
    "\n",
    "widgets.interact(plot_figure, sport=sport_dropdown, kde=kde_chkbox, display_data=display_data_chkbox);"
   ]
  },
  {
   "cell_type": "markdown",
   "id": "2239f021",
   "metadata": {},
   "source": [
    "# Question 3"
   ]
  },
  {
   "cell_type": "code",
   "execution_count": 6,
   "id": "6a11c032",
   "metadata": {},
   "outputs": [
    {
     "data": {
      "text/html": [
       "<div>\n",
       "<style scoped>\n",
       "    .dataframe tbody tr th:only-of-type {\n",
       "        vertical-align: middle;\n",
       "    }\n",
       "\n",
       "    .dataframe tbody tr th {\n",
       "        vertical-align: top;\n",
       "    }\n",
       "\n",
       "    .dataframe thead th {\n",
       "        text-align: right;\n",
       "    }\n",
       "</style>\n",
       "<table border=\"1\" class=\"dataframe\">\n",
       "  <thead>\n",
       "    <tr style=\"text-align: right;\">\n",
       "      <th></th>\n",
       "      <th>model</th>\n",
       "      <th>year</th>\n",
       "      <th>price</th>\n",
       "      <th>transmission</th>\n",
       "      <th>mileage</th>\n",
       "      <th>fuelType</th>\n",
       "      <th>tax</th>\n",
       "      <th>mpg</th>\n",
       "      <th>engineSize</th>\n",
       "      <th>brand</th>\n",
       "    </tr>\n",
       "  </thead>\n",
       "  <tbody>\n",
       "    <tr>\n",
       "      <th>0</th>\n",
       "      <td>A1</td>\n",
       "      <td>2017</td>\n",
       "      <td>12500</td>\n",
       "      <td>Manual</td>\n",
       "      <td>15735</td>\n",
       "      <td>Petrol</td>\n",
       "      <td>150.0</td>\n",
       "      <td>55.4</td>\n",
       "      <td>1.4</td>\n",
       "      <td>Audi</td>\n",
       "    </tr>\n",
       "    <tr>\n",
       "      <th>1</th>\n",
       "      <td>A6</td>\n",
       "      <td>2016</td>\n",
       "      <td>16500</td>\n",
       "      <td>Automatic</td>\n",
       "      <td>36203</td>\n",
       "      <td>Diesel</td>\n",
       "      <td>20.0</td>\n",
       "      <td>64.2</td>\n",
       "      <td>2.0</td>\n",
       "      <td>Audi</td>\n",
       "    </tr>\n",
       "    <tr>\n",
       "      <th>2</th>\n",
       "      <td>A1</td>\n",
       "      <td>2016</td>\n",
       "      <td>11000</td>\n",
       "      <td>Manual</td>\n",
       "      <td>29946</td>\n",
       "      <td>Petrol</td>\n",
       "      <td>30.0</td>\n",
       "      <td>55.4</td>\n",
       "      <td>1.4</td>\n",
       "      <td>Audi</td>\n",
       "    </tr>\n",
       "  </tbody>\n",
       "</table>\n",
       "</div>"
      ],
      "text/plain": [
       "  model  year  price transmission  mileage fuelType    tax   mpg  engineSize  \\\n",
       "0    A1  2017  12500       Manual    15735   Petrol  150.0  55.4         1.4   \n",
       "1    A6  2016  16500    Automatic    36203   Diesel   20.0  64.2         2.0   \n",
       "2    A1  2016  11000       Manual    29946   Petrol   30.0  55.4         1.4   \n",
       "\n",
       "  brand  \n",
       "0  Audi  \n",
       "1  Audi  \n",
       "2  Audi  "
      ]
     },
     "execution_count": 6,
     "metadata": {},
     "output_type": "execute_result"
    }
   ],
   "source": [
    "data = pd.read_csv('used_cars.csv')\n",
    "data.head(3)"
   ]
  },
  {
   "cell_type": "code",
   "execution_count": 7,
   "id": "05b8e539",
   "metadata": {},
   "outputs": [
    {
     "data": {
      "application/vnd.jupyter.widget-view+json": {
       "model_id": "e6d94376ca8042d2897bac2cef0fc6b1",
       "version_major": 2,
       "version_minor": 0
      },
      "text/plain": [
       "interactive(children=(Dropdown(description='Year', options=(2017, 2016, 2019, 2015, 2014, 2018, 2013, 2020, 20…"
      ]
     },
     "execution_count": 7,
     "metadata": {},
     "output_type": "execute_result"
    }
   ],
   "source": [
    "data = pd.read_csv('used_cars.csv')\n",
    "\n",
    "year_dropdown = widgets.Dropdown(\n",
    "    options=data['year'].unique(),\n",
    "    description='Year'\n",
    ")\n",
    "\n",
    "def brand(year):\n",
    "    brands = data[data['year'] == year]['brand'].unique()\n",
    "    brand_dropdown.options = brands\n",
    "\n",
    "brand_dropdown = widgets.Dropdown(\n",
    "    description='Brand'\n",
    ")\n",
    "\n",
    "\n",
    "def model(year, brand):\n",
    "    models = data[(data['year'] == year) & (data['brand'] == brand)]['model'].unique()\n",
    "    model_multiselect.options = models\n",
    "\n",
    "model_multiselect = widgets.SelectMultiple(\n",
    "    description='Model'\n",
    ")\n",
    "\n",
    "\n",
    "def plot_data(year, brand, models):\n",
    "    selected_data = data[(data['year'] == year) & (data['brand'] == brand) & (data['model'].isin(models))]\n",
    "    plt.figure(figsize=(6, 4))\n",
    "    for model in models:\n",
    "        model_data = selected_data[selected_data['model'] == model]\n",
    "        sns.scatterplot(x='price', y='mileage', data=model_data, label=model)\n",
    "    plt.title(f'{year} {brand}')\n",
    "    plt.xlabel('Price')\n",
    "    plt.ylabel('Mileage')\n",
    "    plt.legend(title='model', loc='upper right')\n",
    "    plt.show()\n",
    "\n",
    "\n",
    "widgets.interactive(brand, year=year_dropdown)\n",
    "widgets.interactive(model, year=year_dropdown, brand=brand_dropdown)\n",
    "widgets.interactive(plot_data, year=year_dropdown, brand=brand_dropdown, models=model_multiselect)"
   ]
  },
  {
   "cell_type": "code",
   "execution_count": null,
   "id": "459eb3d6",
   "metadata": {},
   "outputs": [],
   "source": []
  }
 ],
 "metadata": {
  "kernelspec": {
   "display_name": "Python 3 (ipykernel)",
   "language": "python",
   "name": "python3"
  },
  "language_info": {
   "codemirror_mode": {
    "name": "ipython",
    "version": 3
   },
   "file_extension": ".py",
   "mimetype": "text/x-python",
   "name": "python",
   "nbconvert_exporter": "python",
   "pygments_lexer": "ipython3",
   "version": "3.11.3"
  }
 },
 "nbformat": 4,
 "nbformat_minor": 5
}
